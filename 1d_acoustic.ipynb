{
 "cells": [
  {
   "cell_type": "markdown",
   "metadata": {},
   "source": [
    "<div style='background-image: url(\"../../share/images/header.svg\") ; padding: 0px ; background-size: cover ; border-radius: 5px ; height: 250px'>\n",
    "    <div style=\"float: right ; margin: 50px ; padding: 20px ; background: rgba(255 , 255 , 255 , 0.7) ; width: 50% ; height: 150px\">\n",
    "        <div style=\"position: relative ; top: 50% ; transform: translatey(-50%)\">\n",
    "            <div style=\"font-size: xx-large ; font-weight: 900 ; color: rgba(0 , 0 , 0 , 0.8) ; line-height: 100%\">Computational Seismology</div>\n",
    "            <div style=\"font-size: large ; padding-top: 20px ; color: rgba(0 , 0 , 0 , 0.5)\">Parallel implementation for the acoustic wave equation</div>\n",
    "        </div>\n",
    "    </div>\n",
    "</div>"
   ]
  },
  {
   "cell_type": "markdown",
   "metadata": {},
   "source": [
    "Seismo-Live: http://seismo-live.org\n",
    "\n",
    "##### Authors:\n",
    "* David Vargas ([@dvargas](https://github.com/davofis))\n",
    "* Heiner Igel ([@heinerigel](https://github.com/heinerigel))"
   ]
  },
  {
   "cell_type": "markdown",
   "metadata": {},
   "source": [
    "This notebook covers the following aspects:\n",
    "\n",
    "* Initial configuration of setup describing input parameters for the simulation \n",
    "* Domain partitioning for parallel implementation\n",
    "* Local communication between neighboring cell, ghost cells\n",
    "* Finite differences solution of the 1D acoustic wave equation\n",
    "* Visualization of the acoustic wave field in space and time\n",
    "* Animated wave field"
   ]
  },
  {
   "cell_type": "markdown",
   "metadata": {},
   "source": [
    "### Numerical Solution (Finite Differences Method)\n",
    "\n",
    "The acoustic wave equation in 1D with constant density is given by \n",
    "\n",
    "$$\n",
    "\\partial^2_t p(x,t) \\ = \\ c(x)^2 \\partial_x^2 p(x,t) + s(x,t)\n",
    "$$\n",
    "\n",
    "where $p$ represents the pressure field, $c$ acoustic velocity, and $s$ the source term. Second derivatives of the pressure field with respect time and space can be approximated with a difference formula such as\n",
    "\n",
    "$$\n",
    "\\partial^2_t p(x,t) \\ \\approx \\ \\frac{p(x,t+dt) - 2 p(x,t) + p(x,t-dt)}{dt^2} \n",
    "$$\n",
    "\n",
    "similarly, we define and equivalent formula for the space derivative. Next, we introduce these approximations into the wave equation, this allows us to formulate the pressure p(x) for the time step $t+dt$ in the future as a function of the pressure at present time $t$ and $t-dt$ in the past. Additionally, it is convenient to use upper and lower index notation. The upper index indicates time and the lower space. Then\n",
    "\n",
    "$$\n",
    " \\frac{p_{i}^{n+1} - 2 p_{i}^n + p_{i}^{n-1}}{\\mathrm{d}t^2} \\ = \\ c^2 ( \\partial_x^2 p) \\ + s_{i}^n\n",
    "$$\n",
    "\n",
    "solving for $p_{i}^{n+1}$.\n",
    "\n",
    "The explicit extrapolation scheme can be written as \n",
    "\n",
    "$$\n",
    "p_{i}^{n+1} \\ = \\ c_i^2 \\mathrm{d}t^2 \\left[ \\partial_x^2 p \\right]\n",
    "+ 2p_{i}^n - p_{i}^{n-1} + \\mathrm{d}t^2 s_{i}^n\n",
    "$$\n",
    "\n",
    "and the space derivatives are determined by \n",
    "\n",
    "$$\n",
    "\\partial_x^2 p \\ = \\ \\frac{p_{i+1}^{n} - 2 p_{i}^n + p_{i-1}^{n}}{\\mathrm{d}x^2}\n",
    "$$\n",
    "\n",
    "### Getting started\n",
    "\n",
    "Before you start, make sure you have launched a new Ipython cluster with the desired number of engines. Having done that, run the Ipython setup cell as well as the imports cell, this will allow you to use MPI4Py into the jupyter notebook. The next cells are dedicated to the numerical implementation itself. First, the initialization of all parameters is done, you can modify those parameters to evaluate the performance and scalability of the code. Second, an independent cell is dedicated to perform time extrapolation, it is here where all parallel computations take place. Finally, visualization is implemented in the last part of the notebook, you will find an animated plot of the wave field as well as an image of the field itself in space-time  \n"
   ]
  },
  {
   "cell_type": "markdown",
   "metadata": {},
   "source": [
    "### Ipython cluster setup"
   ]
  },
  {
   "cell_type": "code",
   "execution_count": null,
   "metadata": {
    "collapsed": false
   },
   "outputs": [],
   "source": [
    "# Import Libraries (PLEASE RUN THIS CODE FIRST!) \n",
    "# ----------------------------------------------\n",
    "from ipyparallel import Client\n",
    "cluster = Client(profile='mpi')\n",
    "cluster.block = True  # use synchronous computations\n",
    "dview = cluster[:]\n",
    "dview.activate()      # enable magics\n",
    "\n",
    "cluster.ids"
   ]
  },
  {
   "cell_type": "markdown",
   "metadata": {},
   "source": [
    "### Imports\n",
    "Libraries are imported on all workers. This is a configuration step for the exercise. Please run it before the simulation code!"
   ]
  },
  {
   "cell_type": "code",
   "execution_count": null,
   "metadata": {
    "collapsed": true
   },
   "outputs": [],
   "source": [
    "%%px\n",
    "import numpy as np\n",
    "import matplotlib.pyplot as plt\n",
    "from matplotlib import animation\n",
    "from mpi4py import MPI\n",
    "\n",
    "import warnings\n",
    "warnings.filterwarnings(\"ignore\")\n",
    "#==================================\n",
    "comm = MPI.COMM_WORLD\n",
    "\n",
    "size = comm.Get_size()\n",
    "rank = comm.Get_rank()\n",
    "name = MPI.Get_processor_name()\n",
    "#=================================="
   ]
  },
  {
   "cell_type": "markdown",
   "metadata": {
    "collapsed": true
   },
   "source": [
    "### 1. Initialization of setup\n",
    "This cell initializes all necessary variables, arrays, and sets the initial conditions."
   ]
  },
  {
   "cell_type": "code",
   "execution_count": null,
   "metadata": {
    "collapsed": false
   },
   "outputs": [],
   "source": [
    "%%px\n",
    "# Parameter Configuration\n",
    "#---------------------------------------------------------------\n",
    "nx   = 500         # number of grid points in x-direction\n",
    "dx   = 1.8         # grid point distance in x-direction\n",
    "nt   = 1500        # maximum number of time steps\n",
    "dt   = 0.005       # time step\n",
    "c    = 333.        # wave speed in medium (m/s)\n",
    "isrc = 250         # source location in grid in x-direction\n",
    "iplot = 10         # Snapshot frequency\n",
    "\n",
    "# CFL Stability Criterion\n",
    "#---------------------------------------------------------------\n",
    "eps  = c * dt / dx    # epsilon value\n",
    "if rank == 0: print('Stability criterion =', eps)\n",
    "  \n",
    "nx_loc = int(nx/size)    # x-grid points per process\n",
    "\n",
    "#%% Source Time Function (Gaussian)\n",
    "#---------------------------------------------------------------\n",
    "f0   = 25.       # dominant frequency of the source (Hz)\n",
    "t0   = 2. / f0   # source time shift\n",
    "if rank == 0: print('Source frequency =', f0, 'Hz')\n",
    " \n",
    "src  = np.zeros(nt + 1)\n",
    "t = np.linspace(0 * dt, nt * dt, nt)\n",
    "# 1st derivative of a Gaussian\n",
    "src  = -2. * (t - t0) * (f0**2) * (np.exp(-1.0 * (f0**2) * (t - t0)**2))\n",
    "\n",
    "# Initialize pressure fields\n",
    "#---------------------------------------------------------------\n",
    "p    = np.zeros(nx) # p at time n (now)\n",
    "pold = np.zeros(nx) # p at time n-1 (past)\n",
    "pnew = np.zeros(nx) # p at time n+1 (present)\n",
    "d2px = np.zeros(nx) # 2nd space derivative of p\n",
    "\n",
    "# Initialize local vectors\n",
    "#---------------------------------------------------------------\n",
    "d2px_loc = np.zeros(nx_loc+2)   # add ghost cells in the borders\n",
    "p_loc    = np.zeros(nx_loc+2)   # add ghost cells in the borders\n",
    "\n",
    "# Initialize space coordinate\n",
    "#--------------------------------------------------------------- \n",
    "x = np.arange(nx) * dx"
   ]
  },
  {
   "cell_type": "markdown",
   "metadata": {
    "collapsed": true
   },
   "source": [
    "### 2. Finite Differences solution \n",
    "\n",
    "We implement the finite difference solution using the extrapolation scheme:\n",
    "\n",
    "\\begin{equation}\n",
    "p_{i}^{n+1} \\ = \\ c_i^2 \\frac{\\mathrm{d}t^2}{ \\mathrm{d}x^2}\\left[ p_{i+1}^{n} - 2 p_{i}^n + p_{i-1}^{n} \\right] + 2p_{i}^n - p_{i}^{n-1} + \\mathrm{d}t^2 s_{i}^n\n",
    "\\end{equation}\n",
    "\n",
    "---\n",
    "<div style=\"text-align: justify\">\n",
    "\n",
    "<p style=\"width:50%;float:right;padding-left:60px;padding-right:40px\">\n",
    "<img src=images/ghost.png>\n",
    "<span style=\"font-size:smaller\">\n",
    "</span>\n",
    "</p>\n",
    "Since the explicit extrapolation scheme involve data dependence in time, i.e. the future amplitude value depends on the present and past states, this part can no be easily parallelized. However, we can parallelize the space derivatives by domain decomposition. Basically, the space (Mesh) is partitioned among all processors, they will perform derivatives locally and interact with each other via local communication. The last part is crucial so please focus your attention into the lines 'Domain partitioning with scatter', 'Local communicators' and 'Master gathers local derivatives'. The figure on the right hand side illustrates the basic idea behind local ghost cells \n",
    "</div>\n",
    "\n",
    "### High-order operators\n",
    "As an exercise, you may extend the code to higher order by adding a 5-point difference operator. The 5-pt weights are: \n",
    "$\n",
    "[-1/12, 4/3, -5/2, 4/3, -1/12] / dx^2\n",
    "$. \n",
    "Compare simulations of the 3-point and 5-point operators.\n"
   ]
  },
  {
   "cell_type": "code",
   "execution_count": null,
   "metadata": {
    "collapsed": false
   },
   "outputs": [],
   "source": [
    "%%px\n",
    "#---------------------------------------------------------------\n",
    "# TIME EXTRAPOLATION \n",
    "#--------------------------------------------------------------- \n",
    "P_xt = []    # Define array to store wavefield in space-time p(x,t)\n",
    "\n",
    "comm.Barrier()         # Synchronize processors \n",
    "t_start = MPI.Wtime()  # start MPI timer\n",
    "\n",
    "for it in range(nt):\n",
    "    # Domain partitioning with scatter, local fields on workers\n",
    "    comm.Scatter( [p, MPI.DOUBLE], [p_loc[1:nx_loc+1], MPI.DOUBLE] )\n",
    "    # --------------------------------------------------------\n",
    "    # Local communicators\n",
    "    # --------------------------------------------------------\n",
    "    # Send p[0] from ID's+1 to ID's\n",
    "    if 0 < rank:\n",
    "        comm.send(p_loc[1], dest=rank-1, tag=1)\n",
    "    # Receive p[x_loc] in ID's from to ID+1\n",
    "    if rank < size-1:\n",
    "        p_loc[nx_loc+1] = comm.recv(source=rank+1, tag=1)\n",
    "    # Send p[nx_loc] from ID's to ID's+1\n",
    "    if rank < size-1:\n",
    "        comm.send(p_loc[nx_loc], dest=rank+1, tag=2)\n",
    "    # Receive p[x_loc] in ID's from to ID+1\n",
    "    if 0 < rank:\n",
    "        p_loc[0] = comm.recv(source=rank-1, tag=2)     \n",
    "        \n",
    "    # --------------------------------------------------------\n",
    "    # Space derivative, 3 point operator FD scheme\n",
    "    # --------------------------------------------------------\n",
    "    for i in range(1, nx_loc+1):\n",
    "        d2px_loc[i] = (p_loc[i + 1] - 2 * p_loc[i] + p_loc[i - 1]) / dx ** 2\n",
    "    \n",
    "    # Master gathers local derivative vectors from workers, exclude ghost cell\n",
    "    comm.Gather( [d2px_loc[1:nx_loc+1], MPI.DOUBLE], [d2px, MPI.DOUBLE], root=0 )\n",
    "    \n",
    "    # --------------------------------------------------------\n",
    "    # Time Extrapolation\n",
    "    # --------------------------------------------------------\n",
    "    pnew = c ** 2 * dt ** 2 * d2px + 2 * p - pold \n",
    "    # Add Source Term at isrc\n",
    "    pnew[isrc] = pnew[isrc] + src[it] / (dx) * dt ** 2   # dx ??        \n",
    "    # Remap Time Levels\n",
    "    pold, p = p, pnew\n",
    "    # Store solution in space-time on master \n",
    "    if rank == 0: P_xt.append(p)\n",
    "    \n",
    "comm.Barrier()    # Synchronize processors\n",
    "t_final = (MPI.Wtime() - t_start)  # stop MPI timer\n",
    "\n",
    "# Master prints time \n",
    "if (rank == 0): print('Computation time in seconds:   %s '% t_final)  \n",
    "P_xt = np.asanyarray(P_xt)"
   ]
  },
  {
   "cell_type": "markdown",
   "metadata": {
    "collapsed": true
   },
   "source": [
    "### 3. Displaying the wave-field"
   ]
  },
  {
   "cell_type": "code",
   "execution_count": null,
   "metadata": {
    "collapsed": false
   },
   "outputs": [],
   "source": [
    "%%px\n",
    "#---------------------------------------------------------------\n",
    "# Master plots wavefield's numerical solution\n",
    "#---------------------------------------------------------------\n",
    "if rank == 0:  \n",
    "    plt.figure(figsize=(6,8))\n",
    "    plt.imshow(P_xt, cmap='coolwarm', aspect='auto', extent =[0, nx*dx, nt*dt, 0])\n",
    "    plt.title('u(x,t) Acoustic Field')\n",
    "    plt.ylabel('Time [s]')\n",
    "    plt.xlabel('Space [m]')\n",
    "    plt.show()\n",
    "    #print('saving image ...')\n",
    "    #plt.savefig('p_xt.png')    # Save your figure\n",
    "    plt.close()"
   ]
  },
  {
   "cell_type": "markdown",
   "metadata": {
    "collapsed": true
   },
   "source": [
    "### 4. Animated wave-field"
   ]
  },
  {
   "cell_type": "code",
   "execution_count": null,
   "metadata": {
    "collapsed": false
   },
   "outputs": [],
   "source": [
    "%%px\n",
    "#---------------------------------------------------------------\n",
    "# Master animates wavefield solution\n",
    "#---------------------------------------------------------------\n",
    "if (rank == 0):\n",
    "    fig = plt.figure(figsize=(10,5))\n",
    "    ax = plt.axes(xlim=(0,nx*dx), ylim=(-0.0016,0.0016))\n",
    "    line, = ax.plot([], [], lw=2, label='FDM')\n",
    "    plt.title('1D Acoustic wave', fontsize=16)\n",
    "    plt.ylabel('Amplitude', fontsize=12)\n",
    "    plt.xlabel('x (m)', fontsize=12)\n",
    "    plt.legend()\n",
    "    \n",
    "    # initialization function: plot the background of each frame\n",
    "    def init():\n",
    "        line.set_data([], [])\n",
    "        return line,\n",
    "    \n",
    "    # animation function. This is called sequentially\n",
    "    def animate(it):\n",
    "        line.set_data(x, P_xt[it, :])\n",
    "        return line,\n",
    "    \n",
    "    # call the animator.  blit=True means only re-draw the parts that have changed.\n",
    "    anim = animation.FuncAnimation(fig, animate, init_func=init, frames=nt, interval=8, blit=True)\n",
    "    #anim.save('p_xt.mp4', fps=30, extra_args=['-vcodec', 'libx264']) \n",
    "    plt.show()"
   ]
  },
  {
   "cell_type": "code",
   "execution_count": null,
   "metadata": {
    "collapsed": true
   },
   "outputs": [],
   "source": []
  }
 ],
 "metadata": {
  "kernelspec": {
   "display_name": "Python 3",
   "language": "python",
   "name": "python3"
  },
  "language_info": {
   "codemirror_mode": {
    "name": "ipython",
    "version": 3
   },
   "file_extension": ".py",
   "mimetype": "text/x-python",
   "name": "python",
   "nbconvert_exporter": "python",
   "pygments_lexer": "ipython3",
   "version": "3.5.2"
  }
 },
 "nbformat": 4,
 "nbformat_minor": 0
}
