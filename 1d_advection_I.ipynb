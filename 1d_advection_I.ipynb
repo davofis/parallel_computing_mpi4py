{
 "cells": [
  {
   "cell_type": "markdown",
   "metadata": {},
   "source": [
    "<div style='background-image: url(\"../../share/images/header.svg\") ; padding: 0px ; background-size: cover ; border-radius: 5px ; height: 250px'>\n",
    "    <div style=\"float: right ; margin: 50px ; padding: 20px ; background: rgba(255 , 255 , 255 , 0.7) ; width: 50% ; height: 150px\">\n",
    "        <div style=\"position: relative ; top: 50% ; transform: translatey(-50%)\">\n",
    "            <div style=\"font-size: xx-large ; font-weight: 900 ; color: rgba(0 , 0 , 0 , 0.8) ; line-height: 100%\">Computational Seismology</div>\n",
    "            <div style=\"font-size: large ; padding-top: 20px ; color: rgba(0 , 0 , 0 , 0.5)\">Parallel implementation for the advection equation I</div>\n",
    "            <div style=\"font-size: large ; padding-top: 20px ; color: rgba(0 , 0 , 0 , 0.5)\">Collective Communications</div>\n",
    "        </div>\n",
    "    </div>\n",
    "</div>"
   ]
  },
  {
   "cell_type": "markdown",
   "metadata": {},
   "source": [
    "Seismo-Live: http://seismo-live.org\n",
    "\n",
    "##### Authors:\n",
    "* David Vargas ([@dvargas](https://github.com/davofis))\n",
    "* Heiner Igel ([@heinerigel](https://github.com/heinerigel))"
   ]
  },
  {
   "cell_type": "markdown",
   "metadata": {},
   "source": [
    "This notebook covers the following aspects:\n",
    "\n",
    "* Initial configuration of setup describing input parameters for the simulation\n",
    "* Parallel Matrix Multiplication\n",
    "* Domain partitioning for parallel implementation\n",
    "* Global communication for matrix multiplication\n",
    "* Finite differences solution of the 1D advection equation \n",
    "* Visualization of the advection field in space-time\n",
    "* Animated advection field"
   ]
  },
  {
   "cell_type": "markdown",
   "metadata": {},
   "source": [
    "## Basic Theory\n",
    "The source-free advection equation is given by\n",
    "\n",
    "$$\n",
    "\\partial_t u(x, t) = v \\partial_x u(x, t)\n",
    "$$\n",
    "\n",
    "where $u$ represents the advected field and $v$ velocity, and $s$. In this case, derivatives of the advection field with respect time and space can be approximated with a difference formula\n",
    "\n",
    "$$\n",
    "\\partial_t u(x,t) \\ \\approx \\ \\frac{u(x,t+dt) - p(x,t)}{dt} \n",
    "$$\n",
    "\n",
    "After introducing the approximations into the advection equation we can formulate the solution in terms of the extrapolation formula\n",
    "\n",
    "\\begin{equation}\n",
    "u_{i}^{n+1} \\ = \\ v_i \\frac{\\mathrm{d}t}{ \\mathrm{d}x}\\left[ u_{i+1}^{n} - u_{i}^n \\right] + u_{i}^n \n",
    "\\end{equation}\n",
    "\n",
    "The initial condition, $u(x,t = 0)$, may be given by a displacement waveform at $t = 0$. This waveform is advected with velocity $v$. \n",
    "\n",
    "### Getting started\n",
    "\n",
    "Before you start, make sure you have launched a new Ipython cluster with the desired number of engines. Having done that, run the Ipython cluster setup cell as well as the imports cell, this will allow you to use MPI4Py into the jupyter notebook. The next cells are dedicated to the numerical implementation itself. First, the initialization of all parameters is done, you can modify those parameters to evaluate the performance and scalability of the code. Second, some methods for matrix multiplication are defined. Third, an independent cell is dedicated to perform time extrapolation, it is here where all parallel computations take place. Finally, visualization is implemented in the last part of the notebook, you will find an animated plot of the advection field as well as an image of the field itself in space-time "
   ]
  },
  {
   "cell_type": "markdown",
   "metadata": {},
   "source": [
    "### Ipython cluster setup"
   ]
  },
  {
   "cell_type": "code",
   "execution_count": null,
   "metadata": {
    "collapsed": false
   },
   "outputs": [],
   "source": [
    "# Import all necessary libraries, this is a configuration step for the exercise.\n",
    "# Please run it before the simulation code!\n",
    "from ipyparallel import Client\n",
    "cluster = Client(profile='mpi')\n",
    "cluster.block = True  # use synchronous computations\n",
    "dview = cluster[:]\n",
    "dview.activate()      # enable magics\n",
    "\n",
    "cluster.ids"
   ]
  },
  {
   "cell_type": "markdown",
   "metadata": {},
   "source": [
    "### Imports\n",
    "Libraries are imported on all workers. This is a configuration step for the exercise. Please run it before the simulation code!"
   ]
  },
  {
   "cell_type": "code",
   "execution_count": null,
   "metadata": {
    "collapsed": false
   },
   "outputs": [],
   "source": [
    "%%px \n",
    "import numpy as np\n",
    "import matplotlib.pyplot as plt\n",
    "from matplotlib import animation\n",
    "from mpi4py import MPI\n",
    "\n",
    "import warnings\n",
    "warnings.filterwarnings(\"ignore\")\n",
    "#==================================\n",
    "comm = MPI.COMM_WORLD\n",
    "\n",
    "size = comm.Get_size()\n",
    "rank = comm.Get_rank()\n",
    "name = MPI.Get_processor_name()\n",
    "#=================================="
   ]
  },
  {
   "cell_type": "markdown",
   "metadata": {
    "collapsed": true
   },
   "source": [
    "### 1. Method for Parallel Matrix Product\n",
    " \n",
    "<div style=\"text-align: justify\">  \n",
    "\n",
    "<p style=\"width:40%;float:right;padding-left:60px;padding-right:50px\">\n",
    "<img src=images/Matrix_product.png>\n",
    "<span style=\"font-size:smaller\">\n",
    "</span>\n",
    "</p>\n",
    "\n",
    "Matrix multiplication is a central operation in many numerical algorithms, developing efficient algorithms to perform this task is a key point in numerical analysis. Given the matrix-vector product\n",
    "<br>\n",
    "<br>\n",
    "\n",
    "\\begin{equation}\n",
    "c_i =  \\sum_{j=1}^{N} A_{ij}x_{j}\n",
    "\\end{equation}\n",
    "\n",
    "<br>\n",
    "We can use the concept of Toeplitz matrice, an elegant way to perform space derivatives via matrix-vector product. The strategy we follow in this notebook relies on the block partitioning approach, we split the matrix A into blocks or submatrices and assign local product as tasks per processor (see figure on the left). After all local results are available, they need to be gather into the actual global result. This is done under the global communication approach.   \n",
    "</div>"
   ]
  },
  {
   "cell_type": "code",
   "execution_count": null,
   "metadata": {
    "code_folding": [
     2
    ],
    "collapsed": false
   },
   "outputs": [],
   "source": [
    "%%px\n",
    "# Define matrix-vector parallel multiplication function\n",
    "def mat_vec(comm, A, x):\n",
    "    size = comm.Get_size()\n",
    "    n_proc = int(A.shape[0]/size)\n",
    "    if (A.shape[1] != x.size):\n",
    "        print('vector-matrix size mismatch')\n",
    "        comm.Abort()  \n",
    "    if(x.size % size != 0):\n",
    "        print('the number of processors must evenly divide n.')\n",
    "        comm.Abort()\n",
    "    # Initialize local matrices\n",
    "    A_proc = np.zeros((n_proc, A.shape[1]))  \n",
    "    # Matrix partitioning, global communicator\n",
    "    comm.Scatter( [A, MPI.DOUBLE], [A_proc, MPI.DOUBLE] )\n",
    "    # Broadcast vector x using global communicator\n",
    "    comm.Bcast( [x, MPI.DOUBLE] )\n",
    "    #Return local computation of dot product\n",
    "    y_proc = A_proc @ x\n",
    "    return y_proc"
   ]
  },
  {
   "cell_type": "markdown",
   "metadata": {},
   "source": [
    "### 2. Initialization of setup\n",
    "This cell initializes all necessary variables, arrays, and sets the initial conditions."
   ]
  },
  {
   "cell_type": "code",
   "execution_count": null,
   "metadata": {
    "collapsed": false
   },
   "outputs": [],
   "source": [
    "%%px\n",
    "# Parameter Configuration\n",
    "#---------------------------------------------------------------\n",
    "nx    = 200        # Number of grid points.\n",
    "v     = 330        # Acoustic velocity in m/s.\n",
    "x_max = 300        # Length of the domain in m.\n",
    "eps   = 0.5        # CFL\n",
    "tmax  = 1.0        # Simulation time in s\n",
    "isnap = 2          # Plot the solution each `isnap` timesteps.\n",
    "sig   = 10         # Sigma for the gaussian source time function\n",
    "x0    = 25         # Center point of the source time function\n",
    "\n",
    "# Initialize space\n",
    "#---------------------------------------------------------------\n",
    "x, dx = np.linspace(0, x_max, nx, retstep=True)\n",
    "\n",
    "# Time step based on stability criterion\n",
    "#---------------------------------------------------------------\n",
    "dt = eps * dx / v\n",
    "if rank == 0: print('dt =',dt) \n",
    "# Time steps\n",
    "nt = int(tmax / dt)\n",
    "\n",
    "# Initial condition\n",
    "#---------------------------------------------------------------\n",
    "sx = np.exp(-1.0 / sig ** 2.0 * (x - x0) ** 2.0);\n",
    "\n",
    "# Initialize fields\n",
    "#---------------------------------------------------------------\n",
    "u    = sx               # u at time n (now)\n",
    "unew = np.zeros(nx)     # u at time n+1 (present)\n",
    "Du   = np.zeros(nx)     # 1st space derivative of u"
   ]
  },
  {
   "cell_type": "markdown",
   "metadata": {
    "collapsed": true
   },
   "source": [
    "#### 3.1 Method defining derivative matrix - Upwind scheme\n",
    "<br>\n",
    "\n",
    "<div style=\"text-align: justify\"> \n",
    "\n",
    "<p style=\"width:40%;float:right;padding-left:60px;padding-right:50px\">\n",
    "\\begin{equation}\n",
    "D_{ij} = \\frac{1}{dx}\n",
    " \\begin{pmatrix}\n",
    "  -1 &  1 &    &    & \\\\\n",
    "     & -1 &  1 &    & \\\\\n",
    "     &    & \\ddots  &  &  \\\\\n",
    "     &    &    & -1 &  1   \\\\\n",
    "     &    &    &    & -1\n",
    " \\end{pmatrix}\n",
    "\\end{equation}\n",
    "<span style=\"font-size:smaller\">\n",
    "</span>\n",
    "</p>\n",
    "\n",
    "Numerical space derivatives are calculated by applying the differentiation matrix $D_{ij}$ to the function one seeks to derivate. The upwind scheme, \n",
    "<br>\n",
    "<br>\n",
    "\\begin{equation}\n",
    "\\partial_x u(x,t) \\ = \\ \\lim_{dx \\to 0} \\frac{u(x+dx,t) - u(x,t)}{dx} \n",
    "\\end{equation}\n",
    "<br>\n",
    "can be casted into a matrix operator with the shape on the right hand side formula. The next cell defines a method implementing this matrix. \n",
    "</div>"
   ]
  },
  {
   "cell_type": "code",
   "execution_count": null,
   "metadata": {
    "code_folding": [
     2
    ],
    "collapsed": true
   },
   "outputs": [],
   "source": [
    "%%px\n",
    "# Define derivative matrix\n",
    "def FD_upwind(x, dx, nx):\n",
    "    D = np.zeros((nx, nx))\n",
    "    for i in range(1, nx):\n",
    "        for j in range(1, nx):\n",
    "            if i == j:\n",
    "                D[i, j] = -1\n",
    "            elif i == j + 1:\n",
    "                D[i, j] = 1\n",
    "            else:\n",
    "                D[i, j] = 0\n",
    "    D = D / dx\n",
    "    return D"
   ]
  },
  {
   "cell_type": "markdown",
   "metadata": {
    "collapsed": true
   },
   "source": [
    "#### 3.2 Method defining derivative matrix - Centered scheme\n",
    "<br>\n",
    "<div style=\"text-align: justify\"> \n",
    "\n",
    "<p style=\"width:40%;float:right;padding-left:60px;padding-right:50px\">\n",
    "\\begin{equation}\n",
    "D_{ij} = \\frac{1}{2 dx}\n",
    " \\begin{pmatrix}\n",
    "   0 &  1 &    &    & \\\\\n",
    "  -1 &  0 &  1 &    & \\\\\n",
    "     &    & \\ddots  &  &  \\\\\n",
    "     &    & -1 &  0 &  1   \\\\\n",
    "     &    &    & -1 &  0\n",
    " \\end{pmatrix}\n",
    "\\end{equation}\n",
    "<span style=\"font-size:smaller\">\n",
    "</span>\n",
    "</p>\n",
    "\n",
    "Similar to the upwind numerical scheme, we can formulate a centered scheme as follow. \n",
    "<br>\n",
    "<br>\n",
    "\\begin{equation}\n",
    "\\partial_x u(x,t) \\ = \\ \\lim_{dx \\to 0} \\frac{u(x+dx,t) - u(x-dx,t)}{2dx} \n",
    "\\end{equation}\n",
    "<br>\n",
    "This operator is casted into a matrix form as illustrated on the right hand side formula. The next cell defines a method implementing this matrix.\n",
    "</div>"
   ]
  },
  {
   "cell_type": "code",
   "execution_count": null,
   "metadata": {
    "code_folding": [
     2
    ],
    "collapsed": true
   },
   "outputs": [],
   "source": [
    "%%px\n",
    "# Define derivative matrix\n",
    "def FD_centered(x, dx, nx):\n",
    "    D = np.zeros((nx, nx))\n",
    "    for i in range(1, nx):\n",
    "        for j in range(1, nx):\n",
    "            if i == j:\n",
    "                D[i, j] = 0\n",
    "            elif i == j + 1:\n",
    "                D[i, j] = 1\n",
    "            elif i == j - 1:\n",
    "                D[i, j] = -1\n",
    "            else:\n",
    "                D[i, j] = 0\n",
    "    D = D / (2.0 * dx)\n",
    "    return D"
   ]
  },
  {
   "cell_type": "markdown",
   "metadata": {
    "collapsed": true
   },
   "source": [
    "### 4. Finite Differences solution \n",
    "</p>\n",
    "<div style=\"text-align: justify\"> \n",
    "\n",
    "<p style=\"width:30%;float:right;padding-left:50px;padding-right:50px\">\n",
    "<img src=images/fd_toeplitz.png>\n",
    "<span style=\"font-size:smaller\">\n",
    "</span>\n",
    "</p>\n",
    "\n",
    "We implement a finite difference solution using an explicit time extrapolation scheme. Since data dependency in time is involve; i.e. the future state depends on the present, this part can no be easily parallelized. \n",
    "<br>\n",
    "<br>\n",
    "\\begin{equation}\n",
    "u_{i}^{n+1} \\ = \\ v_i \\frac{\\mathrm{d}t}{ \\mathrm{d}x}\\left[ u_{i+1}^{n} - u_{i}^n \\right] + u_{i}^n \n",
    "\\end{equation}\n",
    "<br>\n",
    "However space derivatives can be parallelized, for instance if we consider matrix notation to perform this task\n",
    "<br>\n",
    "<br>\n",
    "\n",
    "\\begin{equation}\n",
    "\\mathbf{u}(t + dt) = v dt  \\mathbf{D}\\mathbf{u}(t) + \\mathbf{u}(t).\n",
    "\\end{equation}\n",
    "</div>\n",
    "\n",
    "<br>\n",
    "First we split the derivative matrix into block, then matrix multiplication occur locally on each processor, and finally we assemble the general solution using global communication. The desired shape for a derivative matrix using center differences can be observed on the right hand side.\n",
    "The following cell the actual finite difference solution, please note how the gather operation is collection all local space derivatives results into a global vector 'Du'"
   ]
  },
  {
   "cell_type": "code",
   "execution_count": null,
   "metadata": {
    "collapsed": false
   },
   "outputs": [],
   "source": [
    "%%px\n",
    "#---------------------------------------------------------------\n",
    "# TIME EXTRAPOLATION \n",
    "#---------------------------------------------------------------\n",
    "D = FD_upwind(x, dx, nx) # Call derivative matrix\n",
    "u_xt = []                # Define array to store wavefield in space-time p(x,t)\n",
    "\n",
    "comm.Barrier()           # Synchronize processors         \n",
    "t_start = MPI.Wtime()    # start MPI timer\n",
    "\n",
    "for it in range(nt):\n",
    "    # 2nd space derivative of p. \n",
    "    Du_local = mat_vec(comm, D, u)  # local vectors defined on each processor \n",
    "    \n",
    "    # Gather local vectors from workers to master, global communicator\n",
    "    comm.Gather( [Du_local, MPI.DOUBLE], [Du, MPI.DOUBLE], root=0 )\n",
    "    \n",
    "    # --------------------------------------------------------\n",
    "    # Time Extrapolation\n",
    "    # --------------------------------------------------------\n",
    "    unew = dt * v * Du + u\n",
    "    # The new presence is the current future!\n",
    "    u = unew\n",
    "    # Store solution in space-time \n",
    "    u_xt.append(u)\n",
    "    \n",
    "comm.Barrier()    # Synchronize processors\n",
    "t_final = (MPI.Wtime() - t_start)  # stop MPI timer\n",
    "\n",
    "# Master prints time \n",
    "if (rank == 0): print('Computation time in seconds:   %s '% t_final)  \n",
    "u_xt = np.asanyarray(u_xt)"
   ]
  },
  {
   "cell_type": "markdown",
   "metadata": {
    "collapsed": true
   },
   "source": [
    "### 5. Displaying the Advection Field"
   ]
  },
  {
   "cell_type": "code",
   "execution_count": null,
   "metadata": {
    "collapsed": false
   },
   "outputs": [],
   "source": [
    "%%px\n",
    "#---------------------------------------------------------------\n",
    "# Master plots advection numerical solution\n",
    "#---------------------------------------------------------------\n",
    "if rank == 0:\n",
    "    plt.figure(figsize=(10,4))\n",
    "    plt.imshow(u_xt, cmap='coolwarm', aspect='auto', extent =[0, nx*dx, nt*dt, 0])\n",
    "    plt.title('u(x,t) Advection field')\n",
    "    plt.ylabel('Time [s]')\n",
    "    plt.xlabel('Space [m]')\n",
    "    plt.show()\n",
    "    #print('saving image ...')\n",
    "    #plt.savefig('u_xt_I.png')    # Save your figure"
   ]
  },
  {
   "cell_type": "markdown",
   "metadata": {
    "collapsed": true
   },
   "source": [
    "### 6. Animated wave-field"
   ]
  },
  {
   "cell_type": "code",
   "execution_count": null,
   "metadata": {
    "collapsed": false
   },
   "outputs": [],
   "source": [
    "%%px\n",
    "#---------------------------------------------------------------\n",
    "# Master animates wavefield solution\n",
    "#---------------------------------------------------------------\n",
    "if (rank == 0):\n",
    "    fig = plt.figure(figsize=(10,4))\n",
    "    ax = plt.axes(xlim=(0,nx*dx), ylim=(0,1))\n",
    "    line, = ax.plot([], [], lw=2, label='FDM')\n",
    "    plt.title('1D Advection', fontsize=16)\n",
    "    plt.ylabel('Amplitude', fontsize=12)\n",
    "    plt.xlabel('x (m)', fontsize=12)\n",
    "    plt.legend()\n",
    "    \n",
    "    # initialization function: plot the background of each frame\n",
    "    def init():\n",
    "        line.set_data([], [])\n",
    "        return line,\n",
    "    \n",
    "    # animation function. This is called sequentially\n",
    "    def animate(it):\n",
    "        line.set_data(x, u_xt[it, :])\n",
    "        return line,\n",
    "    \n",
    "    # call the animator.  blit=True means only re-draw the parts that have changed.\n",
    "    anim = animation.FuncAnimation(fig, animate, init_func=init, frames=nt, interval=40, blit=True)\n",
    "    #anim.save('u_xt_I.mp4', fps=30, extra_args=['-vcodec', 'libx264']) \n",
    "    plt.show()"
   ]
  },
  {
   "cell_type": "code",
   "execution_count": null,
   "metadata": {
    "collapsed": true
   },
   "outputs": [],
   "source": []
  }
 ],
 "metadata": {
  "kernelspec": {
   "display_name": "Python 3",
   "language": "python",
   "name": "python3"
  },
  "language_info": {
   "codemirror_mode": {
    "name": "ipython",
    "version": 3
   },
   "file_extension": ".py",
   "mimetype": "text/x-python",
   "name": "python",
   "nbconvert_exporter": "python",
   "pygments_lexer": "ipython3",
   "version": "3.5.2"
  }
 },
 "nbformat": 4,
 "nbformat_minor": 0
}
